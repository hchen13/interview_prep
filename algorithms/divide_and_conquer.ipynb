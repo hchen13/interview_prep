{
 "cells": [
  {
   "cell_type": "markdown",
   "metadata": {},
   "source": [
    "# Divide and Conquer\n",
    "\n",
    "We solve divide-and-conquer problems recursively by applying 3 abstract steps in each level of the recursion:\n",
    "\n",
    "1. **divide** the problem into a number of subproblems that are smaller instances of the same problem\n",
    "2. **conquer** the subproblems by solving them recursively. If the subproblem sizes are small enough, however, just solve the subproblems in a straightforward manner\n",
    "3. **Combine** the solutions to the subproblems into the solution for the original problem\n",
    "\n"
   ]
  },
  {
   "cell_type": "markdown",
   "metadata": {},
   "source": [
    "# Leetcode [169. Majority Element](https://leetcode.com/problems/majority-element/description/)\n",
    "\n",
    "Given an array of size n, find the majority element. The majority element is the element that appears more than ⌊ n/2 ⌋ times.\n",
    "\n",
    "You may assume that the array is non-empty and the majority element always exist in the array.\n",
    "\n",
    "```\n",
    "Example 1:\n",
    "\n",
    "Input: [3,2,3]\n",
    "Output: 3\n",
    "\n",
    "Example 2:\n",
    "\n",
    "Input: [2,2,1,1,1,2,2]\n",
    "Output: 2\n",
    "```"
   ]
  },
  {
   "cell_type": "markdown",
   "metadata": {},
   "source": [
    "## Solution\n",
    "\n",
    "Recursively find the majority elements for both halves. if the 2 elements are equal, the overall majority element is the same. Otherwise count the number of occurrances of the 2 elements respectively and the overall majority element is the one that has the most number of occurrances. "
   ]
  },
  {
   "cell_type": "code",
   "execution_count": null,
   "metadata": {},
   "outputs": [],
   "source": [
    "def majority_element(nums):\n",
    "    if len(nums) == 1:\n",
    "        return nums[0]\n",
    "    ml = majority_element(nums[0 : len(nums) // 2])\n",
    "    mr = majority_element(nums[len(nums) // 2 : ])\n",
    "    if ml == mr:\n",
    "        return ml\n",
    "    count_ml = len(list(filter(lambda x: x == ml, nums)))\n",
    "    count_mr = len(list(filter(lambda x: x == mr, nums)))\n",
    "    return ml if count_ml > count_mr else mr"
   ]
  },
  {
   "cell_type": "markdown",
   "metadata": {},
   "source": [
    "# Leetcode [53. Maximum Subarray](https://leetcode.com/problems/maximum-subarray/description/)\n",
    "\n",
    "Given an integer array nums, find the contiguous subarray (containing at least one number) which has the largest sum and return its sum.\n",
    "\n",
    "```\n",
    "Example:\n",
    "\n",
    "Input: [-2,1,-3,4,-1,2,1,-5,4],\n",
    "Output: 6\n",
    "\n",
    "Explanation: [4,-1,2,1] has the largest sum = 6.\n",
    "```\n",
    "Follow up:\n",
    "\n",
    "If you have figured out the O(n) solution, try coding another solution using the divide and conquer approach, which is more subtle."
   ]
  },
  {
   "cell_type": "code",
   "execution_count": null,
   "metadata": {},
   "outputs": [],
   "source": [
    "class Solution:\n",
    "    def maxSubArray(self, nums):\n",
    "\n",
    "        if len(nums) == 1:\n",
    "            return nums[0]\n",
    "\n",
    "        center = len(nums) >> 1\n",
    "        left_max = self.maxSubArray(nums[0 : center])\n",
    "        right_max = self.maxSubArray(nums[center : ])\n",
    "\n",
    "        # cross-center max sum\n",
    "        left_optimum = -1_000_000\n",
    "        current_sum = 0\n",
    "        for i in range(center, -1, -1):\n",
    "            current_sum += nums[i]\n",
    "            left_optimum = max(left_optimum, current_sum)\n",
    "\n",
    "        right_optimum = -1_000_000\n",
    "        current_sum = 0\n",
    "        for i in range(center, len(nums)):\n",
    "            current_sum += nums[i]\n",
    "            right_optimum = max(right_optimum, current_sum)\n",
    "\n",
    "        cross_max = left_optimum + right_optimum - nums[center]\n",
    "        return max(left_max, right_max, cross_max)\n",
    "\n",
    "\n",
    "s = Solution()\n",
    "nums = [-2,-1]\n",
    "ans = s.maxSubArray(nums)\n",
    "print(ans)\n"
   ]
  },
  {
   "cell_type": "markdown",
   "metadata": {},
   "source": [
    "# Leetcode [241. Different Ways to Add Parentheses](https://leetcode.com/problems/different-ways-to-add-parentheses/description/)\n",
    "\n",
    "Given a string of numbers and operators, return all possible results from computing all the different possible ways to group numbers and operators. The valid operators are +, - and *.\n",
    "```\n",
    "Example 1:\n",
    "\n",
    "Input: \"2-1-1\"\n",
    "Output: [0, 2]\n",
    "Explanation: \n",
    "((2-1)-1) = 0 \n",
    "(2-(1-1)) = 2\n",
    "\n",
    "Example 2:\n",
    "\n",
    "Input: \"2*3-4*5\"\n",
    "Output: [-34, -14, -10, -10, 10]\n",
    "Explanation: \n",
    "(2*(3-(4*5))) = -34 \n",
    "((2*3)-(4*5)) = -14 \n",
    "((2*(3-4))*5) = -10 \n",
    "(2*((3-4)*5)) = -10 \n",
    "(((2*3)-4)*5) = 10\n",
    "```"
   ]
  },
  {
   "cell_type": "markdown",
   "metadata": {},
   "source": [
    "## Solution / Thoughts\n",
    "\n",
    "In each level of the recurssion, iterate throught the expression and for each operator, recursively work out all the possible outcomes for both sides. And the current level's outcomes are each and every element from both sides combine and calculate based on the current operator."
   ]
  },
  {
   "cell_type": "code",
   "execution_count": null,
   "metadata": {},
   "outputs": [],
   "source": [
    "class Solution:\n",
    "    def diffWaysToCompute(self, input):\n",
    "        if input.isnumeric():\n",
    "            return [int(input)]\n",
    "\n",
    "        def calculate(x, y, op):\n",
    "            outcomes = []\n",
    "            for i in x:\n",
    "                for j in y:\n",
    "                    outcomes.append(eval(\"{}{}{}\".format(i, op, j)))\n",
    "            return outcomes\n",
    "        \n",
    "        outcomes = []\n",
    "        for i, ch in enumerate(input):\n",
    "            if ch in '+-*':\n",
    "                left = self.diffWaysToCompute(input[0 : i])\n",
    "                right = self.diffWaysToCompute(input[i + 1 :])\n",
    "                outcomes += calculate(left, right, ch)\n",
    "\n",
    "        return outcomes"
   ]
  },
  {
   "cell_type": "markdown",
   "metadata": {},
   "source": [
    "# Leetcode [215. Kth Largest Element in an Array](https://leetcode.com/problems/kth-largest-element-in-an-array/description/)\n",
    "\n",
    "Find the kth largest element in an unsorted array. Note that it is the kth largest element in the sorted order, not the kth distinct element.\n",
    "\n",
    "```\n",
    "Example 1:\n",
    "\n",
    "Input: [3,2,1,5,6,4] and k = 2\n",
    "Output: 5\n",
    "\n",
    "Example 2:\n",
    "\n",
    "Input: [3,2,3,1,2,4,5,5,6] and k = 4\n",
    "Output: 4\n",
    "```\n",
    "\n",
    "Note: \n",
    "You may assume k is always valid, 1 ≤ k ≤ array's length."
   ]
  },
  {
   "cell_type": "markdown",
   "metadata": {},
   "source": [
    "## Thoughts / Solution\n",
    "\n",
    "For each level of the recurssion, randomly pick a number in the current array, and divide the array into 2 subarrays based on the comparison to the picked number, so that one subarray contains all the numbers less than the picked, we call it A, and the other subarray contains all that are greater, we call it B. \n",
    "\n",
    "Then consider the target $k$, if $k$ is less than or equal to B's length, then discard the A array and recursively find the $k$-th largest number in the B array; otherwise discard the B array and recursively find the $(k-B.length)$-th largest number in the A array."
   ]
  },
  {
   "cell_type": "code",
   "execution_count": 4,
   "metadata": {},
   "outputs": [
    {
     "name": "stdout",
     "output_type": "stream",
     "text": [
      "3\n"
     ]
    }
   ],
   "source": [
    "class Solution:\n",
    "    def findKthLargest(self, nums, k):\n",
    "        pivot = 0\n",
    "        pivot_pos = partition(nums, pivot)\n",
    "        if pivot_pos + 1 == k:\n",
    "            return nums[pivot_pos]\n",
    "        if pivot_pos + 1 > k:\n",
    "            return self.findKthLargest(nums[0 : pivot_pos], k)\n",
    "        return self.findKthLargest(nums[pivot_pos + 1 : ], k - pivot_pos - 1)\n",
    "\n",
    "\n",
    "def swap(array, i, j):\n",
    "    array[i], array[j] = array[j], array[i]\n",
    "\n",
    "\n",
    "def partition(array, pivot):\n",
    "    swap(array, 0, pivot)\n",
    "    cmp = array[pivot]\n",
    "    j = 0\n",
    "    for i in range(1, len(array)):\n",
    "        if array[i] > cmp:\n",
    "            j += 1\n",
    "            swap(array, i, j)\n",
    "    swap(array, 0, j)\n",
    "    return j\n",
    "\n",
    "\n",
    "s = Solution()\n",
    "arr = [3,2,3,1,2,4,5,5,6]\n",
    "k = 5\n",
    "ans = s.findKthLargest(arr, k)\n",
    "print(ans)"
   ]
  },
  {
   "cell_type": "markdown",
   "metadata": {},
   "source": [
    "# Leetcode [240. Search a 2D Matrix II](https://leetcode.com/problems/search-a-2d-matrix-ii/description/)\n",
    "\n",
    "Write an efficient algorithm that searches for a value in an m x n matrix. This matrix has the following properties:\n",
    "\n",
    "- Integers in each row are sorted in ascending from left to right.\n",
    "- Integers in each column are sorted in ascending from top to bottom.\n",
    "\n",
    "```\n",
    "Example:\n",
    "Consider the following matrix:\n",
    "[\n",
    "  [1,   4,  7, 11, 15],\n",
    "  [2,   5,  8, 12, 19],\n",
    "  [3,   6,  9, 16, 22],\n",
    "  [10, 13, 14, 17, 24],\n",
    "  [18, 21, 23, 26, 30]\n",
    "]\n",
    "\n",
    "Given target = 5, return true.\n",
    "Given target = 20, return false.\n",
    "```"
   ]
  },
  {
   "cell_type": "markdown",
   "metadata": {},
   "source": [
    "## Thoughts / Solution\n",
    "\n",
    "For each level of recursion, the target needs to be found in a matrix of size $m \\times n$. And for each matrix there is a center element at the location of $({m \\over 2}, {n \\over 2})$, dividing the matrix into 4 quadrants. \n",
    "\n",
    "$$\n",
    "\\begin{bmatrix}\n",
    "2&...&1\\\\\n",
    "...&\\text{center}&...\\\\\n",
    "3&...&4\n",
    "\\end{bmatrix}\n",
    "$$\n",
    "\n",
    "If the center element is larger than the target, it can be guaranteed that the target can never appear in quadrant 4, therefore executing the same subroutine recursively for submatrices 1, 2, and 3. Otherwise the target will only appear in quadrant 1, 2, and 3, therefore solve recursively for those submatrices. Once the center element is equal to the target, return found immediately. \n"
   ]
  },
  {
   "cell_type": "code",
   "execution_count": null,
   "metadata": {},
   "outputs": [],
   "source": [
    "class Solution:\n",
    "    def searchMatrix(self, matrix, target):\n",
    "        m = len(matrix)\n",
    "        if not m:\n",
    "            return False\n",
    "        n = len(matrix[0])\n",
    "        return self.find(matrix, (0, 0), (m - 1, n - 1), target)\n",
    "\n",
    "    def find(self, matrix, topleft, bottomright, target):\n",
    "        x0, y0 = topleft\n",
    "        x1, y1 = bottomright\n",
    "\n",
    "        if x1 < x0 or y1 < y0:\n",
    "            return False\n",
    "        if x0 == x1 and y0 == y1:\n",
    "            return matrix[x0][y0] == target\n",
    "\n",
    "        x = (x0 + x1) // 2\n",
    "        y = (y0 + y1) // 2\n",
    "\n",
    "        if matrix[x][y] == target:\n",
    "            return True\n",
    "        if matrix[x][y] > target:\n",
    "            UL = self.find(matrix, (x0, y0), (x, y), target)\n",
    "            BL = self.find(matrix, (x + 1, y0), (x1, y - 1), target)\n",
    "            UR = self.find(matrix, (x0, y + 1), (x - 1, y1), target)\n",
    "            return UL or BL or UR\n",
    "\n",
    "        UR = self.find(matrix, (x0, y + 1), (x, y1), target)\n",
    "        BL = self.find(matrix, (x + 1, y0), (x1, y - 1), target)\n",
    "        BR = self.find(matrix, (x + 1, y), (x1, y1), target)\n",
    "        return UR or BL or BR"
   ]
  },
  {
   "cell_type": "markdown",
   "metadata": {},
   "source": [
    "# Leetcode [312. Burst Balloons](https://leetcode.com/problems/burst-balloons/description/)\n",
    "\n",
    "Given n balloons, indexed from `0` to `n-1`. Each balloon is painted with a number on it represented by array `nums`. You are asked to burst all the balloons. If the you burst balloon `i` you will get `nums[left] * nums[i] * nums[right]` coins. Here left and right are adjacent indices of `i`. After the burst, the left and right then becomes adjacent.\n",
    "\n",
    "Find the maximum coins you can collect by bursting the balloons wisely.\n",
    "\n",
    "Note:\n",
    "\n",
    "You may imagine `nums[-1] = nums[n] = 1`. They are not real therefore you can not burst them.\n",
    "`0 ≤ n ≤ 500, 0 ≤ nums[i] ≤ 100`\n",
    "\n",
    "```\n",
    "Example:\n",
    "\n",
    "Input: [3,1,5,8]\n",
    "Output: 167 \n",
    "Explanation: nums = [3,1,5,8] --> [3,5,8] -->   [3,8]   -->  [8]  --> []\n",
    "             coins =  3*1*5      +  3*5*8    +  1*3*8      + 1*8*1   = 167\n",
    "```"
   ]
  },
  {
   "cell_type": "markdown",
   "metadata": {},
   "source": [
    "## Thoughts\n",
    "\n",
    "In each level of recursion, iterate through the current array and try for each element as the last balloon to burst, therefore dividing the array into 2 subarrays, then recursively solve for both. Note that "
   ]
  },
  {
   "cell_type": "code",
   "execution_count": 1,
   "metadata": {},
   "outputs": [],
   "source": [
    "def burst(arr, i, j, k):\n",
    "    return arr[i] * arr[j] * arr[k]\n",
    "\n",
    "\n",
    "class Solution:\n",
    "    def maxCoins(self, nums):\n",
    "        nums = [1] + [i for i in nums if i > 0] + [1]\n",
    "        mem = [[-1] * len(nums) for _ in range(len(nums))]\n",
    "        return self.find(nums, 0, len(nums) - 1, mem)\n",
    "\n",
    "\n",
    "    def find(self, arr, i, j, mem):\n",
    "        if mem[i][j] != -1:\n",
    "            return mem[i][j]\n",
    "        optimum = 0\n",
    "        for k in range(i + 1, j):\n",
    "            coin_left = self.find(arr, i, k, mem)\n",
    "            coin_right = self.find(arr, k, j, mem)\n",
    "            optimum = max(optimum, coin_left + coin_right + burst(arr, i, j, k))\n",
    "        mem[i][j] = optimum\n",
    "        return optimum"
   ]
  },
  {
   "cell_type": "code",
   "execution_count": null,
   "metadata": {},
   "outputs": [],
   "source": []
  }
 ],
 "metadata": {
  "kernelspec": {
   "display_name": "Python 3",
   "language": "python",
   "name": "python3"
  },
  "language_info": {
   "codemirror_mode": {
    "name": "ipython",
    "version": 3
   },
   "file_extension": ".py",
   "mimetype": "text/x-python",
   "name": "python",
   "nbconvert_exporter": "python",
   "pygments_lexer": "ipython3",
   "version": "3.6.5"
  }
 },
 "nbformat": 4,
 "nbformat_minor": 2
}
