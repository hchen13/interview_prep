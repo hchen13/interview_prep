{
 "cells": [
  {
   "cell_type": "markdown",
   "metadata": {},
   "source": [
    "# Algorithms"
   ]
  },
  {
   "cell_type": "markdown",
   "metadata": {},
   "source": [
    "## The big O notation\n",
    "\n",
    "If there exists a positive constant $c$ such that when $N >= n_0$, $T(N)>= cf(N)$, then\n",
    "\n",
    "$T(N) = O(f(N))$\n",
    "\n",
    "If there exists a positive constant $c$ such that when $N >= n_0$, $T(N)<= cf(N)$, then\n",
    "\n",
    "$T(N) = \\Omega(f(N))$\n",
    "\n",
    "If $T(N) = O(f(N))$ and $T(N) = \\Omega(f(N))$, then\n",
    "\n",
    "$T(N) = \\Theta(f(N))$\n",
    "\n",
    "## Master's Theorem\n",
    "\n",
    "If we have the following equation to represent an algorithm\n",
    "\n",
    "$$T(n)=aT({n \\over b}) + O(n^d)$$\n",
    "\n",
    "The time complexity can be derived as follows:\n",
    "\n",
    "$$\n",
    "T(n)=\\begin{cases}\n",
    "    O(n^d log {n})&, \\text{if } a = b^d\\\\\n",
    "    O(n^d)&, \\text{if } a < b^d \\\\\n",
    "    O(n^{log_b{a}})&, \\text{if } a > b^d\n",
    "\\end{cases}\n",
    "$$"
   ]
  },
  {
   "cell_type": "markdown",
   "metadata": {},
   "source": [
    "# How to compare algorithms\n",
    "\n",
    "Given 2 algorithms that have complexity $T_1=O(f(n))$ and $T_2=O(g(n))$ respectively, comparing them can be achieved by \n",
    "$$\n",
    "r = \\lim_{n \\to \\infty} {{f(n)} \\over {g(n)}}\n",
    "$$\n",
    "1. When $r=0$, algorithm 1 is faster\n",
    "2. When $r=c \\neq 0$, the algorithms are equally fast\n",
    "3. When $r=\\infty$, algorithm 2 is faster\n",
    "4. When $r$ does not converge, then 2 algorithms are not relavent\n",
    "\n",
    "When necessary, **L' Hospital's rule** should be applied to derive the outcome."
   ]
  }
 ],
 "metadata": {
  "kernelspec": {
   "display_name": "Python 3",
   "language": "python",
   "name": "python3"
  },
  "language_info": {
   "codemirror_mode": {
    "name": "ipython",
    "version": 3
   },
   "file_extension": ".py",
   "mimetype": "text/x-python",
   "name": "python",
   "nbconvert_exporter": "python",
   "pygments_lexer": "ipython3",
   "version": "3.6.5"
  }
 },
 "nbformat": 4,
 "nbformat_minor": 2
}
