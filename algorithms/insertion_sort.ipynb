{
 "cells": [
  {
   "cell_type": "markdown",
   "metadata": {},
   "source": [
    "# The Sorting Problem Definition\n",
    "\n",
    "This algorithm solves the sorting problem which is introduced as follows:\n",
    "\n",
    "**input** A sequence of $n$ numbers $<a_1, a_2, ..., a_n>$\n",
    "\n",
    "**output** A permutation (reordering) $<a_1', a_2', ..., a_n'>$ of the original sequence such that $a_i' ≤ a_{i+1}'$, where $i \\in [1, n)$\n",
    "\n",
    "The numbers that we wish to sort are also known as the **keys**. Although conceptually we are sorting a sequence, the input comes to us in the form of an array with $n$ elements. "
   ]
  },
  {
   "cell_type": "markdown",
   "metadata": {},
   "source": [
    "# Insertion Sort\n",
    "\n",
    "The algorithm works the way people sort a hand of playing cards. We start with an empty left hand and the cards face down on the table. We then remove one card at a time from the table and insert it into the correct position in the left hand. To find the correct position for a card, we compare it with each of the cards already in the hand. At all times, the cards held in the left hand are sorted, and these cards were originally the top cards of the pile on the table. "
   ]
  },
  {
   "cell_type": "code",
   "execution_count": null,
   "metadata": {},
   "outputs": [],
   "source": [
    "def insertion_sort(arr):\n",
    "    \"\"\"Sort the given array `arr` in ascending order\"\"\"\n",
    "    n = len(arr)\n",
    "    for i in range(1, n):  # iterate through the array from the second to last elements\n",
    "        key = arr[i]       # the one which we are currently considering and inserting into the left hand\n",
    "        j = i - 1\n",
    "        while j >= 0 and a[j] > key:  # check for all the elements already sorted\n",
    "            a[j + 1] = a[j]  # move all the elements greater than the key to the right by one position\n",
    "            j -= 1\n",
    "        a[j + 1] = key     # after the while loop, the first element that's less than the key at is located at position `j`\n",
    "        "
   ]
  },
  {
   "cell_type": "code",
   "execution_count": null,
   "metadata": {},
   "outputs": [],
   "source": [
    "# try it out\n",
    "a = [5, 2, 4, 6, 1, 3]\n",
    "insertion_sort(a)\n",
    "print(a)"
   ]
  },
  {
   "cell_type": "markdown",
   "metadata": {},
   "source": [
    "The algorithm sorts the input array **in place**: it rearranges the elements within the original array, with at most a constant number of them stored outside the array at any time, no extra memory space is needed. "
   ]
  },
  {
   "cell_type": "markdown",
   "metadata": {},
   "source": [
    "# Leetcode [242. Valid Anagram](https://leetcode.com/problems/valid-anagram/description/)\n",
    "\n",
    "Given two strings s and t , write a function to determine if t is an anagram of s.\n",
    "```\n",
    "Example 1:\n",
    "\n",
    "Input: s = \"anagram\", t = \"nagaram\"\n",
    "Output: true\n",
    "\n",
    "Example 2:\n",
    "\n",
    "Input: s = \"rat\", t = \"car\"\n",
    "Output: false\n",
    "```\n",
    "**Note:**\n",
    "\n",
    "You may assume the string contains only lowercase alphabets.\n",
    "\n",
    "**Follow up:**\n",
    "\n",
    "What if the inputs contain unicode characters? How would you adapt your solution to such case?"
   ]
  },
  {
   "cell_type": "code",
   "execution_count": 6,
   "metadata": {},
   "outputs": [
    {
     "name": "stdout",
     "output_type": "stream",
     "text": [
      "True\n"
     ]
    }
   ],
   "source": [
    "%reset -f\n",
    "\n",
    "def insertion_sort(text):\n",
    "    arr = [ch for ch in text]\n",
    "    n = len(arr)\n",
    "    for i in range(1, n):\n",
    "        key = arr[i]\n",
    "        j = i - 1\n",
    "        while j >= 0 and arr[j] > key:\n",
    "            arr[j + 1] = arr[j]\n",
    "            j -= 1\n",
    "        arr[j + 1] = key\n",
    "    return \"\".join(arr)\n",
    "\n",
    "class Solution:\n",
    "    def isAnagram(self, s, t):\n",
    "        \"\"\"\n",
    "        :type s: str\n",
    "        :type t: str\n",
    "        :rtype: bool\n",
    "        \"\"\"\n",
    "        return insertion_sort(s) == insertion_sort(t)\n",
    "\n",
    "s = \"anagram\"\n",
    "t = \"nagaram\"\n",
    "print(Solution().isAnagram(s, t))\n",
    "\n"
   ]
  }
 ],
 "metadata": {
  "kernelspec": {
   "display_name": "Python 3",
   "language": "python",
   "name": "python3"
  },
  "language_info": {
   "codemirror_mode": {
    "name": "ipython",
    "version": 3
   },
   "file_extension": ".py",
   "mimetype": "text/x-python",
   "name": "python",
   "nbconvert_exporter": "python",
   "pygments_lexer": "ipython3",
   "version": "3.6.5"
  }
 },
 "nbformat": 4,
 "nbformat_minor": 2
}
